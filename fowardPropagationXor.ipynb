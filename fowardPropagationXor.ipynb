{
 "cells": [
  {
   "cell_type": "markdown",
   "metadata": {},
   "source": [
    "# Alan Hurtarte\n",
    "## 19000590\n",
    "\n",
    "---\n",
    "\n",
    "## Foward propagation Xor\n",
    "\n",
    "---"
   ]
  },
  {
   "cell_type": "code",
   "execution_count": 21,
   "metadata": {},
   "outputs": [
    {
     "name": "stdout",
     "output_type": "stream",
     "text": [
      "H:  [1 0]\n",
      "************************\n",
      "H:  [1 1]\n",
      "************************\n",
      "H:  [1 1]\n",
      "************************\n",
      "H:  [0 1]\n",
      "************************\n"
     ]
    }
   ],
   "source": [
    "import numpy as np\n",
    "\n",
    "\n",
    "def sigmoid(X):\n",
    "    return 1 if X > 0 else 0\n",
    "\n",
    "xs = []\n",
    "xs.append(np.array([1, 1]))\n",
    "xs.append(np.array([1, 0]))\n",
    "xs.append(np.array([0, 1]))\n",
    "xs.append(np.array([0, 0]))\n",
    "\n",
    "\n",
    "w1 = [-10, 20, 20]\n",
    "w2 = [30, -20, -20]\n",
    "w3 = [-30, 20, 20]\n",
    "\n",
    "x = []\n",
    "y = []\n",
    "\n",
    "\n",
    "\n",
    "for i in range(len(xs)):\n",
    "    A11 = np.matmul(xs[i],w1[1:]) + w1[0]\n",
    "    H11 = sigmoid(A11) \n",
    "    A12 = np.matmul(xs[i],w2[1:]) + w2[0]\n",
    "    H12 = sigmoid(A12)\n",
    "    H2 = np.array([H11, H12])\n",
    "    print('H: ',H2)\n",
    "    x.append(H2)\n",
    "    A2 = np.matmul(H2, w3[1:]) + w3[0]\n",
    "    H2 = sigmoid(A2) \n",
    "    print('************************')\n"
   ]
  },
  {
   "cell_type": "code",
   "execution_count": 17,
   "metadata": {},
   "outputs": [
    {
     "data": {
      "text/plain": [
       "array([[1, 1, 1, 0],\n",
       "       [0, 1, 1, 1]])"
      ]
     },
     "execution_count": 17,
     "metadata": {},
     "output_type": "execute_result"
    }
   ],
   "source": [
    "np.transpose(x)"
   ]
  },
  {
   "cell_type": "code",
   "execution_count": 36,
   "metadata": {},
   "outputs": [
    {
     "name": "stdout",
     "output_type": "stream",
     "text": [
      "[1 1 1 0]\n",
      "[0 1 1 1]\n"
     ]
    },
    {
     "data": {
      "image/png": "[encoded data removed]",
      "text/plain": [
       "<Figure size 432x288 with 1 Axes>"
      ]
     },
     "metadata": {
      "needs_background": "light"
     },
     "output_type": "display_data"
    }
   ],
   "source": [
    "import matplotlib.pyplot as plt\n",
    "x = np.array(x)\n",
    "y = x[:,1]\n",
    "x2 = x[:,0]\n",
    "\n",
    "print(x2)\n",
    "print(y)\n",
    "\n",
    "plt.scatter(x2[0],y[0], label='True', color='blue', s=25, marker=\"x\")\n",
    "plt.scatter(x2[1],y[1], label='False', color='red', s=25, marker=\"o\")\n",
    "plt.scatter(x2[2],y[2], label='False', color='red', s=25, marker=\"o\")\n",
    "plt.scatter(x2[3],y[3], label='True', color='blue', s=25, marker=\"x\")\n",
    "plt.xlabel('x1')\n",
    "plt.ylabel('x2')\n",
    "plt.title('H neuron')\n",
    "plt.legend()\n",
    "plt.show()"
   ]
  }
 ],
 "metadata": {
  "kernelspec": {
   "display_name": "Python 3",
   "language": "python",
   "name": "python3"
  },
  "language_info": {
   "codemirror_mode": {
    "name": "ipython",
    "version": 3
   },
   "file_extension": ".py",
   "mimetype": "text/x-python",
   "name": "python",
   "nbconvert_exporter": "python",
   "pygments_lexer": "ipython3",
   "version": "3.7.3"
  }
 },
 "nbformat": 4,
 "nbformat_minor": 2
}
